{
 "cells": [
  {
   "cell_type": "markdown",
   "metadata": {},
   "source": [
    "# MC316 Final Exam – Part B: PYTHON"
   ]
  },
  {
   "cell_type": "markdown",
   "metadata": {},
   "source": [
    "* You will have 1 hour and 40 minutes to finish the test.\n",
    "* This part includes 10 questions. Each question is worth 15 points.\n",
    "* You get extra 30 points for full answers.\n",
    "* Please read the instructions carefully. "
   ]
  },
  {
   "cell_type": "markdown",
   "metadata": {},
   "source": [
    "## I. SET UP\n"
   ]
  },
  {
   "cell_type": "markdown",
   "metadata": {},
   "source": [
    "### Import pandas library for use in scripting. "
   ]
  },
  {
   "cell_type": "code",
   "execution_count": 1,
   "metadata": {},
   "outputs": [],
   "source": [
    "import pandas as pd"
   ]
  },
  {
   "cell_type": "markdown",
   "metadata": {},
   "source": [
    "### Import the datasets and name them.\n",
    "For this test, you will analyze revenue and expenditure data released by Kansas Department of Administration for the fiscal year 2018. While the original data can be directly downloaded [here](http://kanview.ks.gov/DataDownload.aspx), for your convenience, the instructor had them uploaded to a server at the following urls. \n",
    "\n",
    "#### For Kansas State University:\n",
    "1. Expenditure data: https://datajournalism.tech/wp-content/uploads/2019/05/ExpData_367_2018.csv\n",
    "2. Revenue data: https://datajournalism.tech/wp-content/uploads/2019/05/RevData_367_2018.csv\n",
    "\n",
    "#### For University of Kansas:\n",
    "3. Expenditure data: https://datajournalism.tech/wp-content/uploads/2019/05/ExpData_682_2018.csv\n",
    "4. Revenue data: https://datajournalism.tech/wp-content/uploads/2019/05/RevData_682_2018.csv\n",
    "\n",
    "You will need to import all 4 datasets and name them in an easy way to call out later.\n",
    "\n",
    "*Please refer to the [Glossary](http://kanview.ks.gov/Glossary.aspx#f) for data description."
   ]
  },
  {
   "cell_type": "code",
   "execution_count": 34,
   "metadata": {},
   "outputs": [],
   "source": [
    "KSUEX = pd.read_csv(\"https://datajournalism.tech/wp-content/uploads/2019/05/ExpData_367_2018.csv\")"
   ]
  },
  {
   "cell_type": "code",
   "execution_count": 35,
   "metadata": {},
   "outputs": [],
   "source": [
    "KSUREV = pd.read_csv(\"https://datajournalism.tech/wp-content/uploads/2019/05/RevData_367_2018.csv\")"
   ]
  },
  {
   "cell_type": "code",
   "execution_count": 36,
   "metadata": {},
   "outputs": [],
   "source": [
    "KUEX = pd.read_csv(\"https://datajournalism.tech/wp-content/uploads/2019/05/ExpData_682_2018.csv\")"
   ]
  },
  {
   "cell_type": "code",
   "execution_count": 37,
   "metadata": {},
   "outputs": [],
   "source": [
    "KUREV = pd.read_csv(\"https://datajournalism.tech/wp-content/uploads/2019/05/RevData_682_2018.csv\")"
   ]
  },
  {
   "cell_type": "markdown",
   "metadata": {},
   "source": [
    "## II. REQUIRED QUESTIONS\n",
    "* Make sure you type the answers in the cells right below the codes.\n",
    "* If you need to add extra cells, click the + button in the toolbar up the top. "
   ]
  },
  {
   "cell_type": "markdown",
   "metadata": {},
   "source": [
    "### Q1: What is the total revenue recorded for Kansas State University in the fiscal year of 2018? How does it compare to the total revenue recorded for University of Kansas in the same year?"
   ]
  },
  {
   "cell_type": "code",
   "execution_count": 39,
   "metadata": {},
   "outputs": [
    {
     "data": {
      "text/plain": [
       "854324643.84"
      ]
     },
     "execution_count": 39,
     "metadata": {},
     "output_type": "execute_result"
    }
   ],
   "source": [
    "KSUREV.Total.sum()"
   ]
  },
  {
   "cell_type": "code",
   "execution_count": 40,
   "metadata": {},
   "outputs": [
    {
     "data": {
      "text/plain": [
       "808767902.55"
      ]
     },
     "execution_count": 40,
     "metadata": {},
     "output_type": "execute_result"
    }
   ],
   "source": [
    "KUREV.Total.sum()"
   ]
  },
  {
   "cell_type": "code",
   "execution_count": 41,
   "metadata": {},
   "outputs": [
    {
     "data": {
      "text/plain": [
       "45556741.29000008"
      ]
     },
     "execution_count": 41,
     "metadata": {},
     "output_type": "execute_result"
    }
   ],
   "source": [
    "854324643.84 - 808767902.55"
   ]
  },
  {
   "cell_type": "markdown",
   "metadata": {},
   "source": [
    "Answer: The total revenue in the fiscal year of 2018 for Kansas State University was 854,324,643.84 dollars. It is 45,556,741.29 higher then the total revenue for the University of Kansas that year."
   ]
  },
  {
   "cell_type": "markdown",
   "metadata": {},
   "source": [
    "### Q2: What is the total expense recorded for Kansas State University in the fiscal year of 2018? How does it compare to the total expense recorded for University of Kansas in the same year?"
   ]
  },
  {
   "cell_type": "code",
   "execution_count": 42,
   "metadata": {},
   "outputs": [
    {
     "data": {
      "text/plain": [
       "1018584373.02"
      ]
     },
     "execution_count": 42,
     "metadata": {},
     "output_type": "execute_result"
    }
   ],
   "source": [
    "KSUEX.Total.sum()"
   ]
  },
  {
   "cell_type": "code",
   "execution_count": 43,
   "metadata": {},
   "outputs": [
    {
     "data": {
      "text/plain": [
       "990238875.6099999"
      ]
     },
     "execution_count": 43,
     "metadata": {},
     "output_type": "execute_result"
    }
   ],
   "source": [
    "KUEX.Total.sum()"
   ]
  },
  {
   "cell_type": "code",
   "execution_count": 44,
   "metadata": {},
   "outputs": [
    {
     "data": {
      "text/plain": [
       "28345497.410000086"
      ]
     },
     "execution_count": 44,
     "metadata": {},
     "output_type": "execute_result"
    }
   ],
   "source": [
    "1018584373.02 - 990238875.6099999"
   ]
  },
  {
   "cell_type": "markdown",
   "metadata": {},
   "source": [
    "Answer: The total expense recorded for Kansas State in 2018 was 1,018,584,373.02 dollars. The difference with the total expense for Kansas was 28,345,497.410000086 dollars."
   ]
  },
  {
   "cell_type": "markdown",
   "metadata": {},
   "source": [
    "### Q3: Where did the two universities' primary revenues come from? \n",
    "*Refer to the description [here](http://kanview.ks.gov/Revenues/AcctCodeRevenues.aspx) to write your answer."
   ]
  },
  {
   "cell_type": "code",
   "execution_count": 65,
   "metadata": {},
   "outputs": [
    {
     "data": {
      "text/plain": [
       "AGENCY EARNINGS                   637\n",
       "REV FROM USE OF MONEY & PROP      354\n",
       "REVENUE TRANSFERS                 341\n",
       "NON REVENUE RECEIPTS              259\n",
       "OTHER REVENUE                     160\n",
       "GIFT DONATION FEDERAL GRANTS      152\n",
       "TAXES                               7\n",
       "Name: Primary_Account_Code_Descr, dtype: int64"
      ]
     },
     "execution_count": 65,
     "metadata": {},
     "output_type": "execute_result"
    }
   ],
   "source": [
    "KSUREV.Primary_Account_Code_Descr.value_counts()"
   ]
  },
  {
   "cell_type": "code",
   "execution_count": 66,
   "metadata": {},
   "outputs": [
    {
     "data": {
      "text/plain": [
       "AGENCY EARNINGS                   376\n",
       "REV FROM USE OF MONEY & PROP      251\n",
       "NON REVENUE RECEIPTS              157\n",
       "REVENUE TRANSFERS                 153\n",
       "OTHER REVENUE                      57\n",
       "TAXES                              45\n",
       "GIFT DONATION FEDERAL GRANTS       38\n",
       "Name: Primary_Account_Code_Descr, dtype: int64"
      ]
     },
     "execution_count": 66,
     "metadata": {},
     "output_type": "execute_result"
    }
   ],
   "source": [
    "KUREV.Primary_Account_Code_Descr.value_counts()"
   ]
  },
  {
   "cell_type": "code",
   "execution_count": 67,
   "metadata": {},
   "outputs": [
    {
     "data": {
      "text/plain": [
       "261"
      ]
     },
     "execution_count": 67,
     "metadata": {},
     "output_type": "execute_result"
    }
   ],
   "source": [
    "637 - 376"
   ]
  },
  {
   "cell_type": "markdown",
   "metadata": {},
   "source": [
    "Answer: The primary revenue for Kansas State was Agency Earnings at 637, and that is 261 more then Kansas. "
   ]
  },
  {
   "cell_type": "markdown",
   "metadata": {},
   "source": [
    "### Q4: What was the biggest source of revenues for Kansas State University? Compare to the one of University of Kansas."
   ]
  },
  {
   "cell_type": "markdown",
   "metadata": {},
   "source": [
    "Remove hashtag and run the following code to suppress scientific notation:"
   ]
  },
  {
   "cell_type": "code",
   "execution_count": 89,
   "metadata": {},
   "outputs": [],
   "source": [
    "pd.set_option('display.float_format', lambda x: '%.3f' % x) "
   ]
  },
  {
   "cell_type": "code",
   "execution_count": 90,
   "metadata": {},
   "outputs": [
    {
     "ename": "AttributeError",
     "evalue": "'DataFrameGroupBy' object has no attribute 'amount'",
     "output_type": "error",
     "traceback": [
      "\u001b[0;31m---------------------------------------------------------------------------\u001b[0m",
      "\u001b[0;31mAttributeError\u001b[0m                            Traceback (most recent call last)",
      "\u001b[0;32m<ipython-input-90-b0ff6f45f26c>\u001b[0m in \u001b[0;36m<module>\u001b[0;34m()\u001b[0m\n\u001b[0;32m----> 1\u001b[0;31m \u001b[0mKSUREV\u001b[0m\u001b[0;34m.\u001b[0m\u001b[0mgroupby\u001b[0m\u001b[0;34m(\u001b[0m\u001b[0;34m\"Intermediate_Account_Code_Descr\"\u001b[0m\u001b[0;34m)\u001b[0m\u001b[0;34m.\u001b[0m\u001b[0mamount\u001b[0m\u001b[0;34m.\u001b[0m\u001b[0msum\u001b[0m\u001b[0;34m(\u001b[0m\u001b[0;34m)\u001b[0m\u001b[0;34m\u001b[0m\u001b[0m\n\u001b[0m",
      "\u001b[0;32m/Users/Guest/Desktop/NickYuska/Final/lib/python2.7/site-packages/pandas/core/groupby/groupby.pyc\u001b[0m in \u001b[0;36m__getattr__\u001b[0;34m(self, attr)\u001b[0m\n\u001b[1;32m    534\u001b[0m \u001b[0;34m\u001b[0m\u001b[0m\n\u001b[1;32m    535\u001b[0m         raise AttributeError(\"%r object has no attribute %r\" %\n\u001b[0;32m--> 536\u001b[0;31m                              (type(self).__name__, attr))\n\u001b[0m\u001b[1;32m    537\u001b[0m \u001b[0;34m\u001b[0m\u001b[0m\n\u001b[1;32m    538\u001b[0m     @Substitution(klass='GroupBy',\n",
      "\u001b[0;31mAttributeError\u001b[0m: 'DataFrameGroupBy' object has no attribute 'amount'"
     ]
    }
   ],
   "source": [
    "KSUREV.groupby(\"Intermediate_Account_Code_Descr\").amount.sum()"
   ]
  },
  {
   "cell_type": "code",
   "execution_count": 91,
   "metadata": {},
   "outputs": [
    {
     "name": "stdout",
     "output_type": "stream",
     "text": [
      "<class 'pandas.core.frame.DataFrame'>\n",
      "Int64Index: 436413 entries, 0 to 436412\n",
      "Data columns (total 43 columns):\n",
      "Fiscal_Year_x                        436413 non-null int64\n",
      "Fiscal_Quarter_x                     436413 non-null int64\n",
      "Business_Unit_x                      436413 non-null int64\n",
      "Business_Unit_Descr_x                436413 non-null object\n",
      "GAAP_Fund_Type_x                     436413 non-null int64\n",
      "GAAP_Fund_Type_Descr_x               436413 non-null object\n",
      "Fund_Code_x                          436413 non-null int64\n",
      "Fund_Code_Descr_x                    436413 non-null object\n",
      "Budget_Ref_x                         436413 non-null int64\n",
      "Budget_Ref_Descr_x                   436413 non-null object\n",
      "Program_Code_x                       436413 non-null int64\n",
      "Program_Code_Descr_x                 436413 non-null object\n",
      "State_Function_x                     436413 non-null int64\n",
      "State_Function_Descr_x               436413 non-null object\n",
      "Primary_Account_Code_x               436413 non-null int64\n",
      "Primary_Account_Code_Descr           436413 non-null object\n",
      "Intermediate_Account_Code_x          436413 non-null int64\n",
      "Intermediate_Account_Code_Descr_x    436413 non-null object\n",
      "Detail_Account_Code_x                436413 non-null int64\n",
      "Detail_Account_Code_Descr_x          436413 non-null object\n",
      "Total_x                              436413 non-null float64\n",
      "Unnamed: 21_x                        0 non-null float64\n",
      "Fiscal_Year_y                        436413 non-null int64\n",
      "Fiscal_Quarter_y                     436413 non-null int64\n",
      "Business_Unit_y                      436413 non-null int64\n",
      "Business_Unit_Descr_y                436413 non-null object\n",
      "GAAP_Fund_Type_y                     436413 non-null int64\n",
      "GAAP_Fund_Type_Descr_y               436413 non-null object\n",
      "Fund_Code_y                          436413 non-null int64\n",
      "Fund_Code_Descr_y                    436413 non-null object\n",
      "Budget_Ref_y                         436413 non-null int64\n",
      "Budget_Ref_Descr_y                   436413 non-null object\n",
      "Program_Code_y                       436413 non-null int64\n",
      "Program_Code_Descr_y                 436413 non-null object\n",
      "State_Function_y                     436413 non-null int64\n",
      "State_Function_Descr_y               436413 non-null object\n",
      "Primary_Account_Code_y               436413 non-null int64\n",
      "Intermediate_Account_Code_y          436413 non-null int64\n",
      "Intermediate_Account_Code_Descr_y    436413 non-null object\n",
      "Detail_Account_Code_y                436413 non-null int64\n",
      "Detail_Account_Code_Descr_y          436413 non-null object\n",
      "Total_y                              436413 non-null float64\n",
      "Unnamed: 21_y                        0 non-null float64\n",
      "dtypes: float64(4), int64(22), object(17)\n",
      "memory usage: 146.5+ MB\n"
     ]
    }
   ],
   "source": [
    "merged.info()"
   ]
  },
  {
   "cell_type": "code",
   "execution_count": 94,
   "metadata": {},
   "outputs": [
    {
     "data": {
      "text/plain": [
       "Primary_Account_Code_Descr\n",
       "AGENCY EARNINGS                  412565112.820\n",
       "GIFT DONATION FEDERAL GRANTS     278778848.030\n",
       "NON REVENUE RECEIPTS              71947564.050\n",
       "OTHER REVENUE                      8432030.160\n",
       "REV FROM USE OF MONEY & PROP      34139318.040\n",
       "REVENUE TRANSFERS                 48458616.490\n",
       "TAXES                                 3154.250\n",
       "Name: Total, dtype: float64"
      ]
     },
     "execution_count": 94,
     "metadata": {},
     "output_type": "execute_result"
    }
   ],
   "source": [
    "KSUREV.groupby(\"Primary_Account_Code_Descr\").Total.sum()\n"
   ]
  },
  {
   "cell_type": "code",
   "execution_count": 95,
   "metadata": {},
   "outputs": [
    {
     "data": {
      "text/plain": [
       "Primary_Account_Code_Descr\n",
       "AGENCY EARNINGS                  408409337.320\n",
       "GIFT DONATION FEDERAL GRANTS     193836668.320\n",
       "NON REVENUE RECEIPTS              69753247.670\n",
       "OTHER REVENUE                     68241930.500\n",
       "REV FROM USE OF MONEY & PROP      40950779.540\n",
       "REVENUE TRANSFERS                 26013855.400\n",
       "TAXES                              1562083.800\n",
       "Name: Total, dtype: float64"
      ]
     },
     "execution_count": 95,
     "metadata": {},
     "output_type": "execute_result"
    }
   ],
   "source": [
    "KUREV.groupby(\"Primary_Account_Code_Descr\").Total.sum()"
   ]
  },
  {
   "cell_type": "markdown",
   "metadata": {},
   "source": [
    "Answer: The biggest source of revenue for Kansas State is agency earnings is 412,565,112.820, compared to Kansas' of 408,409,337.320."
   ]
  },
  {
   "cell_type": "markdown",
   "metadata": {},
   "source": [
    "### Q5: What accounts contributed to Kansas State University's biggest source of revenues?\n",
    "If you run into a situation where a filter function returns 0 results, you may want to check if there are leading and trailing spaces in the column. To clean the leading and trailing spaces, you will need to remove the hashtag, revise the names, and run the following code:"
   ]
  },
  {
   "cell_type": "code",
   "execution_count": 98,
   "metadata": {},
   "outputs": [],
   "source": [
    "KSUREV[\"Primary_Account_Code_Descr\"] = KUREV[\"Primary_Account_Code_Descr\"].str.strip()"
   ]
  },
  {
   "cell_type": "markdown",
   "metadata": {},
   "source": [
    "After cleaning the spaces, you can start filtering your datasets to find the answer for Q5."
   ]
  },
  {
   "cell_type": "code",
   "execution_count": 100,
   "metadata": {},
   "outputs": [],
   "source": [
    "KSUREV[\"Primary_Account_Code_Descr\"] = KUREV[\"Primary_Account_Code_Descr\"].str.strip()"
   ]
  },
  {
   "cell_type": "markdown",
   "metadata": {},
   "source": [
    "Answer: Agency Earnings, Gift Donation Federal Grants, Non Revenue Receipts, Other Revenue, REV from Use of Money & Prop, Revenue Transfers, and Taxes"
   ]
  },
  {
   "cell_type": "markdown",
   "metadata": {},
   "source": [
    "### Q6: Where did the money go? (Answer for both universities)\n",
    "*Refer to the description [here] (http://kanview.ks.gov/Expenditures/AcctCodeExpenditures.aspx) to write your answer."
   ]
  },
  {
   "cell_type": "code",
   "execution_count": 119,
   "metadata": {},
   "outputs": [
    {
     "data": {
      "text/html": [
       "<div>\n",
       "<style scoped>\n",
       "    .dataframe tbody tr th:only-of-type {\n",
       "        vertical-align: middle;\n",
       "    }\n",
       "\n",
       "    .dataframe tbody tr th {\n",
       "        vertical-align: top;\n",
       "    }\n",
       "\n",
       "    .dataframe thead th {\n",
       "        text-align: right;\n",
       "    }\n",
       "</style>\n",
       "<table border=\"1\" class=\"dataframe\">\n",
       "  <thead>\n",
       "    <tr style=\"text-align: right;\">\n",
       "      <th></th>\n",
       "      <th>Detail_Account_Code_Descr</th>\n",
       "      <th>Total</th>\n",
       "    </tr>\n",
       "  </thead>\n",
       "  <tbody>\n",
       "    <tr>\n",
       "      <th>209</th>\n",
       "      <td>UNCLASSIFIED REGULAR</td>\n",
       "      <td>305142755.620</td>\n",
       "    </tr>\n",
       "    <tr>\n",
       "      <th>133</th>\n",
       "      <td>OTHER LOANS</td>\n",
       "      <td>122486413.000</td>\n",
       "    </tr>\n",
       "    <tr>\n",
       "      <th>194</th>\n",
       "      <td>STUDENT SCHOLAR FELLOW GRANT</td>\n",
       "      <td>74721592.990</td>\n",
       "    </tr>\n",
       "    <tr>\n",
       "      <th>20</th>\n",
       "      <td>BUILDINGS</td>\n",
       "      <td>39972418.640</td>\n",
       "    </tr>\n",
       "    <tr>\n",
       "      <th>68</th>\n",
       "      <td>GROUP HEALTH HOSPITALIZATION</td>\n",
       "      <td>36281335.170</td>\n",
       "    </tr>\n",
       "    <tr>\n",
       "      <th>50</th>\n",
       "      <td>EDUCATIONAL INST EE RETIRE SYS</td>\n",
       "      <td>21783012.730</td>\n",
       "    </tr>\n",
       "    <tr>\n",
       "      <th>58</th>\n",
       "      <td>FED AID TO QUALIFIED NON STATE</td>\n",
       "      <td>20045451.550</td>\n",
       "    </tr>\n",
       "    <tr>\n",
       "      <th>119</th>\n",
       "      <td>OASDI</td>\n",
       "      <td>19126303.800</td>\n",
       "    </tr>\n",
       "    <tr>\n",
       "      <th>128</th>\n",
       "      <td>OTHER FEES</td>\n",
       "      <td>18195826.220</td>\n",
       "    </tr>\n",
       "    <tr>\n",
       "      <th>210</th>\n",
       "      <td>UNCLASSIFIED TEMPORARY</td>\n",
       "      <td>18051482.160</td>\n",
       "    </tr>\n",
       "    <tr>\n",
       "      <th>192</th>\n",
       "      <td>STUDENT EMPLOYEES HOURLY</td>\n",
       "      <td>16409907.550</td>\n",
       "    </tr>\n",
       "    <tr>\n",
       "      <th>193</th>\n",
       "      <td>STUDENT RESEARCH ASSISTANTS</td>\n",
       "      <td>16146554.180</td>\n",
       "    </tr>\n",
       "    <tr>\n",
       "      <th>43</th>\n",
       "      <td>DEBT SVC TRANSFER PRINCIPAL</td>\n",
       "      <td>16011010.600</td>\n",
       "    </tr>\n",
       "    <tr>\n",
       "      <th>17</th>\n",
       "      <td>BOND PRINCIPAL</td>\n",
       "      <td>15960000.000</td>\n",
       "    </tr>\n",
       "    <tr>\n",
       "      <th>16</th>\n",
       "      <td>BOND INTEREST</td>\n",
       "      <td>15417585.700</td>\n",
       "    </tr>\n",
       "    <tr>\n",
       "      <th>42</th>\n",
       "      <td>DEBT SVC TRANSFER INTEREST</td>\n",
       "      <td>14662433.470</td>\n",
       "    </tr>\n",
       "    <tr>\n",
       "      <th>126</th>\n",
       "      <td>OTHER CONTRACTUAL SERVICES</td>\n",
       "      <td>14349200.250</td>\n",
       "    </tr>\n",
       "    <tr>\n",
       "      <th>51</th>\n",
       "      <td>ELECTRICITY</td>\n",
       "      <td>12156496.410</td>\n",
       "    </tr>\n",
       "    <tr>\n",
       "      <th>159</th>\n",
       "      <td>PRO SCIENTIFIC SUPPLY OTHER</td>\n",
       "      <td>12095845.510</td>\n",
       "    </tr>\n",
       "    <tr>\n",
       "      <th>205</th>\n",
       "      <td>UNCLASS HOLIDAY INCL IN BASE</td>\n",
       "      <td>11109574.960</td>\n",
       "    </tr>\n",
       "    <tr>\n",
       "      <th>67</th>\n",
       "      <td>GRADUATE TEACHING ASSISTANTS</td>\n",
       "      <td>10441437.600</td>\n",
       "    </tr>\n",
       "    <tr>\n",
       "      <th>169</th>\n",
       "      <td>REPAIR AND SVC BLDG GROUND</td>\n",
       "      <td>9662271.180</td>\n",
       "    </tr>\n",
       "    <tr>\n",
       "      <th>136</th>\n",
       "      <td>OTHER PROFESSIONAL FEES</td>\n",
       "      <td>8317521.100</td>\n",
       "    </tr>\n",
       "    <tr>\n",
       "      <th>135</th>\n",
       "      <td>OTHER NON EXPENSE ITEMS</td>\n",
       "      <td>7789230.430</td>\n",
       "    </tr>\n",
       "    <tr>\n",
       "      <th>41</th>\n",
       "      <td>DATABASE ACCESS FEES NOT OITS</td>\n",
       "      <td>7135429.320</td>\n",
       "    </tr>\n",
       "    <tr>\n",
       "      <th>158</th>\n",
       "      <td>PRO AND SCIENTIFIC EQUIP</td>\n",
       "      <td>6935124.510</td>\n",
       "    </tr>\n",
       "    <tr>\n",
       "      <th>80</th>\n",
       "      <td>INTERFUND TRANSFER OUT</td>\n",
       "      <td>6271685.690</td>\n",
       "    </tr>\n",
       "    <tr>\n",
       "      <th>162</th>\n",
       "      <td>PUBLIC EE RETIREMENT SYSTEM</td>\n",
       "      <td>6242569.040</td>\n",
       "    </tr>\n",
       "    <tr>\n",
       "      <th>54</th>\n",
       "      <td>ENROLL FEES SPONS INST GRANT</td>\n",
       "      <td>5737654.200</td>\n",
       "    </tr>\n",
       "    <tr>\n",
       "      <th>63</th>\n",
       "      <td>FOOD FOR HUMAN CONSUMPTION</td>\n",
       "      <td>5628672.570</td>\n",
       "    </tr>\n",
       "    <tr>\n",
       "      <th>...</th>\n",
       "      <td>...</td>\n",
       "      <td>...</td>\n",
       "    </tr>\n",
       "    <tr>\n",
       "      <th>44</th>\n",
       "      <td>DEPR LAND IMPROVEMENTS NON CAP</td>\n",
       "      <td>8680.690</td>\n",
       "    </tr>\n",
       "    <tr>\n",
       "      <th>200</th>\n",
       "      <td>TELECOM TRANSMISSION NON CAP</td>\n",
       "      <td>7195.570</td>\n",
       "    </tr>\n",
       "    <tr>\n",
       "      <th>85</th>\n",
       "      <td>INTERGOV LD COMM SVC OP OITS</td>\n",
       "      <td>6097.040</td>\n",
       "    </tr>\n",
       "    <tr>\n",
       "      <th>153</th>\n",
       "      <td>PRINTING EQUIP NON CAPITAL</td>\n",
       "      <td>5764.100</td>\n",
       "    </tr>\n",
       "    <tr>\n",
       "      <th>47</th>\n",
       "      <td>DRUGS AND PHARMACEUTICALS</td>\n",
       "      <td>5505.580</td>\n",
       "    </tr>\n",
       "    <tr>\n",
       "      <th>130</th>\n",
       "      <td>OTHER FUEL</td>\n",
       "      <td>4068.040</td>\n",
       "    </tr>\n",
       "    <tr>\n",
       "      <th>161</th>\n",
       "      <td>PROPERTY DAMAGE OR LOSS CLAIMS</td>\n",
       "      <td>3704.280</td>\n",
       "    </tr>\n",
       "    <tr>\n",
       "      <th>64</th>\n",
       "      <td>FUEL OIL DIESEL AND KEROSENE</td>\n",
       "      <td>3556.830</td>\n",
       "    </tr>\n",
       "    <tr>\n",
       "      <th>175</th>\n",
       "      <td>ROYALTY PAYMENTS</td>\n",
       "      <td>3028.080</td>\n",
       "    </tr>\n",
       "    <tr>\n",
       "      <th>29</th>\n",
       "      <td>COMPUTER EQUIPMENT RENTAL</td>\n",
       "      <td>2730.450</td>\n",
       "    </tr>\n",
       "    <tr>\n",
       "      <th>160</th>\n",
       "      <td>PROPANE BUTANE NATURAL GAS</td>\n",
       "      <td>2692.920</td>\n",
       "    </tr>\n",
       "    <tr>\n",
       "      <th>151</th>\n",
       "      <td>PRINT BIND SURCHARGE ST ONLY</td>\n",
       "      <td>2630.220</td>\n",
       "    </tr>\n",
       "    <tr>\n",
       "      <th>56</th>\n",
       "      <td>FCIP-PRINCIPAL-BI-C/I</td>\n",
       "      <td>1884.780</td>\n",
       "    </tr>\n",
       "    <tr>\n",
       "      <th>12</th>\n",
       "      <td>ASSESSMENTS FOR IMPROVEMENTS</td>\n",
       "      <td>1778.080</td>\n",
       "    </tr>\n",
       "    <tr>\n",
       "      <th>53</th>\n",
       "      <td>EMPLOYEE AWARDS NOT IRS REPORT</td>\n",
       "      <td>1764.370</td>\n",
       "    </tr>\n",
       "    <tr>\n",
       "      <th>110</th>\n",
       "      <td>MOVING EE PERS EFFECTS IN ST</td>\n",
       "      <td>772.650</td>\n",
       "    </tr>\n",
       "    <tr>\n",
       "      <th>101</th>\n",
       "      <td>LOCAL FUNDS SHORTAGES</td>\n",
       "      <td>441.890</td>\n",
       "    </tr>\n",
       "    <tr>\n",
       "      <th>188</th>\n",
       "      <td>STATE CAR EXPENSE-INTERNATL</td>\n",
       "      <td>414.400</td>\n",
       "    </tr>\n",
       "    <tr>\n",
       "      <th>14</th>\n",
       "      <td>BANK FEES</td>\n",
       "      <td>292.700</td>\n",
       "    </tr>\n",
       "    <tr>\n",
       "      <th>83</th>\n",
       "      <td>INTERGOV LD COMM SVC CAP OITS</td>\n",
       "      <td>152.410</td>\n",
       "    </tr>\n",
       "    <tr>\n",
       "      <th>30</th>\n",
       "      <td>COMPUTER PROGRAMMING CAP OITS</td>\n",
       "      <td>3.720</td>\n",
       "    </tr>\n",
       "    <tr>\n",
       "      <th>24</th>\n",
       "      <td>CLASSIFIED REGULAR</td>\n",
       "      <td>0.000</td>\n",
       "    </tr>\n",
       "    <tr>\n",
       "      <th>173</th>\n",
       "      <td>RETURN OF UNEXPENDED FED GRANT</td>\n",
       "      <td>0.000</td>\n",
       "    </tr>\n",
       "    <tr>\n",
       "      <th>134</th>\n",
       "      <td>OTHER MISC ADVANCES</td>\n",
       "      <td>0.000</td>\n",
       "    </tr>\n",
       "    <tr>\n",
       "      <th>124</th>\n",
       "      <td>OTHER CLAIMS</td>\n",
       "      <td>0.000</td>\n",
       "    </tr>\n",
       "    <tr>\n",
       "      <th>97</th>\n",
       "      <td>LIVESTOCK</td>\n",
       "      <td>-1195.540</td>\n",
       "    </tr>\n",
       "    <tr>\n",
       "      <th>52</th>\n",
       "      <td>EMPLOYEE AWARDS IRS REPORTABLE</td>\n",
       "      <td>-6278.370</td>\n",
       "    </tr>\n",
       "    <tr>\n",
       "      <th>82</th>\n",
       "      <td>INTERGOV LCL COMM SVC OP OITS</td>\n",
       "      <td>-8649.140</td>\n",
       "    </tr>\n",
       "    <tr>\n",
       "      <th>113</th>\n",
       "      <td>NATIONAL DIRECT STUDENT LOANS</td>\n",
       "      <td>-98046.440</td>\n",
       "    </tr>\n",
       "    <tr>\n",
       "      <th>149</th>\n",
       "      <td>PRINCIPAL AND PREMIUMS</td>\n",
       "      <td>-175082.020</td>\n",
       "    </tr>\n",
       "  </tbody>\n",
       "</table>\n",
       "<p>217 rows × 2 columns</p>\n",
       "</div>"
      ],
      "text/plain": [
       "          Detail_Account_Code_Descr         Total\n",
       "209  UNCLASSIFIED REGULAR           305142755.620\n",
       "133  OTHER LOANS                    122486413.000\n",
       "194  STUDENT SCHOLAR FELLOW GRANT    74721592.990\n",
       "20   BUILDINGS                       39972418.640\n",
       "68   GROUP HEALTH HOSPITALIZATION    36281335.170\n",
       "50   EDUCATIONAL INST EE RETIRE SYS  21783012.730\n",
       "58   FED AID TO QUALIFIED NON STATE  20045451.550\n",
       "119  OASDI                           19126303.800\n",
       "128  OTHER FEES                      18195826.220\n",
       "210  UNCLASSIFIED TEMPORARY          18051482.160\n",
       "192  STUDENT EMPLOYEES HOURLY        16409907.550\n",
       "193  STUDENT RESEARCH ASSISTANTS     16146554.180\n",
       "43   DEBT SVC TRANSFER PRINCIPAL     16011010.600\n",
       "17   BOND PRINCIPAL                  15960000.000\n",
       "16   BOND INTEREST                   15417585.700\n",
       "42   DEBT SVC TRANSFER INTEREST      14662433.470\n",
       "126  OTHER CONTRACTUAL SERVICES      14349200.250\n",
       "51   ELECTRICITY                     12156496.410\n",
       "159  PRO SCIENTIFIC SUPPLY OTHER     12095845.510\n",
       "205  UNCLASS HOLIDAY INCL IN BASE    11109574.960\n",
       "67   GRADUATE TEACHING ASSISTANTS    10441437.600\n",
       "169  REPAIR AND SVC BLDG GROUND       9662271.180\n",
       "136  OTHER PROFESSIONAL FEES          8317521.100\n",
       "135  OTHER NON EXPENSE ITEMS          7789230.430\n",
       "41   DATABASE ACCESS FEES NOT OITS    7135429.320\n",
       "158  PRO AND SCIENTIFIC EQUIP         6935124.510\n",
       "80   INTERFUND TRANSFER OUT           6271685.690\n",
       "162  PUBLIC EE RETIREMENT SYSTEM      6242569.040\n",
       "54   ENROLL FEES SPONS INST GRANT     5737654.200\n",
       "63   FOOD FOR HUMAN CONSUMPTION       5628672.570\n",
       "..                              ...           ...\n",
       "44   DEPR LAND IMPROVEMENTS NON CAP      8680.690\n",
       "200  TELECOM TRANSMISSION NON CAP        7195.570\n",
       "85   INTERGOV LD COMM SVC OP OITS        6097.040\n",
       "153  PRINTING EQUIP NON CAPITAL          5764.100\n",
       "47   DRUGS AND PHARMACEUTICALS           5505.580\n",
       "130  OTHER FUEL                          4068.040\n",
       "161  PROPERTY DAMAGE OR LOSS CLAIMS      3704.280\n",
       "64   FUEL OIL DIESEL AND KEROSENE        3556.830\n",
       "175  ROYALTY PAYMENTS                    3028.080\n",
       "29   COMPUTER EQUIPMENT RENTAL           2730.450\n",
       "160  PROPANE BUTANE NATURAL GAS          2692.920\n",
       "151  PRINT BIND SURCHARGE ST ONLY        2630.220\n",
       "56   FCIP-PRINCIPAL-BI-C/I               1884.780\n",
       "12   ASSESSMENTS FOR IMPROVEMENTS        1778.080\n",
       "53   EMPLOYEE AWARDS NOT IRS REPORT      1764.370\n",
       "110  MOVING EE PERS EFFECTS IN ST         772.650\n",
       "101  LOCAL FUNDS SHORTAGES                441.890\n",
       "188  STATE CAR EXPENSE-INTERNATL          414.400\n",
       "14   BANK FEES                            292.700\n",
       "83   INTERGOV LD COMM SVC CAP OITS        152.410\n",
       "30   COMPUTER PROGRAMMING CAP OITS          3.720\n",
       "24   CLASSIFIED REGULAR                     0.000\n",
       "173  RETURN OF UNEXPENDED FED GRANT         0.000\n",
       "134  OTHER MISC ADVANCES                    0.000\n",
       "124  OTHER CLAIMS                           0.000\n",
       "97   LIVESTOCK                          -1195.540\n",
       "52   EMPLOYEE AWARDS IRS REPORTABLE     -6278.370\n",
       "82   INTERGOV LCL COMM SVC OP OITS      -8649.140\n",
       "113  NATIONAL DIRECT STUDENT LOANS     -98046.440\n",
       "149  PRINCIPAL AND PREMIUMS           -175082.020\n",
       "\n",
       "[217 rows x 2 columns]"
      ]
     },
     "execution_count": 119,
     "metadata": {},
     "output_type": "execute_result"
    }
   ],
   "source": [
    "KSUEX.groupby(\"Detail_Account_Code_Descr\").Total.sum().reset_index().sort_values(\"Total\", ascending=False)"
   ]
  },
  {
   "cell_type": "code",
   "execution_count": 122,
   "metadata": {},
   "outputs": [
    {
     "data": {
      "text/html": [
       "<div>\n",
       "<style scoped>\n",
       "    .dataframe tbody tr th:only-of-type {\n",
       "        vertical-align: middle;\n",
       "    }\n",
       "\n",
       "    .dataframe tbody tr th {\n",
       "        vertical-align: top;\n",
       "    }\n",
       "\n",
       "    .dataframe thead th {\n",
       "        text-align: right;\n",
       "    }\n",
       "</style>\n",
       "<table border=\"1\" class=\"dataframe\">\n",
       "  <thead>\n",
       "    <tr style=\"text-align: right;\">\n",
       "      <th></th>\n",
       "      <th>Detail_Account_Code_Descr</th>\n",
       "      <th>Total</th>\n",
       "    </tr>\n",
       "  </thead>\n",
       "  <tbody>\n",
       "    <tr>\n",
       "      <th>237</th>\n",
       "      <td>UNCLASSIFIED REGULAR</td>\n",
       "      <td>305121246.380</td>\n",
       "    </tr>\n",
       "    <tr>\n",
       "      <th>153</th>\n",
       "      <td>OTHER LOANS</td>\n",
       "      <td>155585941.820</td>\n",
       "    </tr>\n",
       "    <tr>\n",
       "      <th>223</th>\n",
       "      <td>STUDENT SCHOLAR FELLOW GRANT</td>\n",
       "      <td>71155246.600</td>\n",
       "    </tr>\n",
       "    <tr>\n",
       "      <th>26</th>\n",
       "      <td>BUILDINGS</td>\n",
       "      <td>41133478.280</td>\n",
       "    </tr>\n",
       "    <tr>\n",
       "      <th>79</th>\n",
       "      <td>GROUP HEALTH HOSPITALIZATION</td>\n",
       "      <td>35055117.340</td>\n",
       "    </tr>\n",
       "    <tr>\n",
       "      <th>147</th>\n",
       "      <td>OTHER FEES</td>\n",
       "      <td>26918847.290</td>\n",
       "    </tr>\n",
       "    <tr>\n",
       "      <th>143</th>\n",
       "      <td>OTHER CONTRACTUAL SERVICES</td>\n",
       "      <td>25602259.510</td>\n",
       "    </tr>\n",
       "    <tr>\n",
       "      <th>64</th>\n",
       "      <td>EDUCATIONAL INST EE RETIRE SYS</td>\n",
       "      <td>23518974.990</td>\n",
       "    </tr>\n",
       "    <tr>\n",
       "      <th>34</th>\n",
       "      <td>CLASSIFIED REGULAR</td>\n",
       "      <td>18906657.600</td>\n",
       "    </tr>\n",
       "    <tr>\n",
       "      <th>78</th>\n",
       "      <td>GRADUATE TEACHING ASSISTANTS</td>\n",
       "      <td>18772266.860</td>\n",
       "    </tr>\n",
       "    <tr>\n",
       "      <th>134</th>\n",
       "      <td>OASDI</td>\n",
       "      <td>18479835.850</td>\n",
       "    </tr>\n",
       "    <tr>\n",
       "      <th>19</th>\n",
       "      <td>BOND INTEREST</td>\n",
       "      <td>13514706.920</td>\n",
       "    </tr>\n",
       "    <tr>\n",
       "      <th>65</th>\n",
       "      <td>ELECTRICITY</td>\n",
       "      <td>12609894.380</td>\n",
       "    </tr>\n",
       "    <tr>\n",
       "      <th>222</th>\n",
       "      <td>STUDENT RESEARCH ASSISTANTS</td>\n",
       "      <td>12100134.710</td>\n",
       "    </tr>\n",
       "    <tr>\n",
       "      <th>20</th>\n",
       "      <td>BOND PRINCIPAL</td>\n",
       "      <td>11795000.000</td>\n",
       "    </tr>\n",
       "    <tr>\n",
       "      <th>58</th>\n",
       "      <td>DEBT SVC TRANSFER PRINCIPAL</td>\n",
       "      <td>11605000.000</td>\n",
       "    </tr>\n",
       "    <tr>\n",
       "      <th>221</th>\n",
       "      <td>STUDENT EMPLOYEES HOURLY</td>\n",
       "      <td>10739204.610</td>\n",
       "    </tr>\n",
       "    <tr>\n",
       "      <th>66</th>\n",
       "      <td>EMPLOYEE AND STUDENT TUITION</td>\n",
       "      <td>10055763.700</td>\n",
       "    </tr>\n",
       "    <tr>\n",
       "      <th>57</th>\n",
       "      <td>DEBT SVC TRANSFER INTEREST</td>\n",
       "      <td>9736916.160</td>\n",
       "    </tr>\n",
       "    <tr>\n",
       "      <th>62</th>\n",
       "      <td>DUES AND SUBSCRIPTIONS</td>\n",
       "      <td>7985473.750</td>\n",
       "    </tr>\n",
       "    <tr>\n",
       "      <th>194</th>\n",
       "      <td>REPAIR &amp; SVC OTHER</td>\n",
       "      <td>7462877.120</td>\n",
       "    </tr>\n",
       "    <tr>\n",
       "      <th>23</th>\n",
       "      <td>BUILDING IMPROVEMENTS</td>\n",
       "      <td>6738896.190</td>\n",
       "    </tr>\n",
       "    <tr>\n",
       "      <th>234</th>\n",
       "      <td>UNCLASS HOLIDAY INCL IN BASE</td>\n",
       "      <td>6289556.090</td>\n",
       "    </tr>\n",
       "    <tr>\n",
       "      <th>18</th>\n",
       "      <td>BLDGS AND GROUNDS MATERIALS</td>\n",
       "      <td>4865591.890</td>\n",
       "    </tr>\n",
       "    <tr>\n",
       "      <th>120</th>\n",
       "      <td>MEDICARE</td>\n",
       "      <td>4636221.930</td>\n",
       "    </tr>\n",
       "    <tr>\n",
       "      <th>156</th>\n",
       "      <td>OTHER PROFESSIONAL FEES</td>\n",
       "      <td>4424959.140</td>\n",
       "    </tr>\n",
       "    <tr>\n",
       "      <th>188</th>\n",
       "      <td>PUBLIC EE RETIREMENT SYSTEM</td>\n",
       "      <td>4256270.700</td>\n",
       "    </tr>\n",
       "    <tr>\n",
       "      <th>185</th>\n",
       "      <td>PRO SCIENTIFIC SUPPLY OTHER</td>\n",
       "      <td>4164762.930</td>\n",
       "    </tr>\n",
       "    <tr>\n",
       "      <th>12</th>\n",
       "      <td>ARCHITECTS AND ENGINEERS</td>\n",
       "      <td>4004007.880</td>\n",
       "    </tr>\n",
       "    <tr>\n",
       "      <th>238</th>\n",
       "      <td>UNCLASSIFIED TEMPORARY</td>\n",
       "      <td>3878461.940</td>\n",
       "    </tr>\n",
       "    <tr>\n",
       "      <th>...</th>\n",
       "      <td>...</td>\n",
       "      <td>...</td>\n",
       "    </tr>\n",
       "    <tr>\n",
       "      <th>104</th>\n",
       "      <td>INTERGOV POSTAGE OP OITS</td>\n",
       "      <td>991.570</td>\n",
       "    </tr>\n",
       "    <tr>\n",
       "      <th>102</th>\n",
       "      <td>INTERGOV OTHER COMM NOT OITS</td>\n",
       "      <td>941.880</td>\n",
       "    </tr>\n",
       "    <tr>\n",
       "      <th>187</th>\n",
       "      <td>PROPERTY DAMAGE OR LOSS CLAIMS</td>\n",
       "      <td>823.710</td>\n",
       "    </tr>\n",
       "    <tr>\n",
       "      <th>215</th>\n",
       "      <td>ST BLDGS OPERATING CHARGE</td>\n",
       "      <td>769.000</td>\n",
       "    </tr>\n",
       "    <tr>\n",
       "      <th>73</th>\n",
       "      <td>FEED AND FORAGE</td>\n",
       "      <td>637.160</td>\n",
       "    </tr>\n",
       "    <tr>\n",
       "      <th>154</th>\n",
       "      <td>OTHER MISC ADVANCES</td>\n",
       "      <td>630.000</td>\n",
       "    </tr>\n",
       "    <tr>\n",
       "      <th>220</th>\n",
       "      <td>STEAM</td>\n",
       "      <td>593.230</td>\n",
       "    </tr>\n",
       "    <tr>\n",
       "      <th>86</th>\n",
       "      <td>HOSPITALS AND NURSING HOMES</td>\n",
       "      <td>500.000</td>\n",
       "    </tr>\n",
       "    <tr>\n",
       "      <th>89</th>\n",
       "      <td>HOUSEHOLD FURNITURE</td>\n",
       "      <td>447.560</td>\n",
       "    </tr>\n",
       "    <tr>\n",
       "      <th>186</th>\n",
       "      <td>PROPANE BUTANE NATURAL GAS</td>\n",
       "      <td>334.400</td>\n",
       "    </tr>\n",
       "    <tr>\n",
       "      <th>202</th>\n",
       "      <td>SELF PROP SVC OIL CHANGE</td>\n",
       "      <td>290.410</td>\n",
       "    </tr>\n",
       "    <tr>\n",
       "      <th>108</th>\n",
       "      <td>LAB RANDOM EE DRUG TEST</td>\n",
       "      <td>167.800</td>\n",
       "    </tr>\n",
       "    <tr>\n",
       "      <th>69</th>\n",
       "      <td>ER KPERS WAR 3RD PTY/CNSLNT</td>\n",
       "      <td>118.140</td>\n",
       "    </tr>\n",
       "    <tr>\n",
       "      <th>16</th>\n",
       "      <td>ATTORNEYS AND LAWYERS</td>\n",
       "      <td>117.330</td>\n",
       "    </tr>\n",
       "    <tr>\n",
       "      <th>43</th>\n",
       "      <td>COMPUTER PROGRAMMING CAP OITS</td>\n",
       "      <td>114.690</td>\n",
       "    </tr>\n",
       "    <tr>\n",
       "      <th>99</th>\n",
       "      <td>INTERGOV LD COMM SVC CAP OITS</td>\n",
       "      <td>95.960</td>\n",
       "    </tr>\n",
       "    <tr>\n",
       "      <th>10</th>\n",
       "      <td>ANIMAL DRUGS</td>\n",
       "      <td>83.470</td>\n",
       "    </tr>\n",
       "    <tr>\n",
       "      <th>149</th>\n",
       "      <td>OTHER FUEL</td>\n",
       "      <td>66.920</td>\n",
       "    </tr>\n",
       "    <tr>\n",
       "      <th>124</th>\n",
       "      <td>MOVING EE PERS EFFECTS IN ST</td>\n",
       "      <td>60.630</td>\n",
       "    </tr>\n",
       "    <tr>\n",
       "      <th>217</th>\n",
       "      <td>STATE CAR EXPENSE-INTERNATL</td>\n",
       "      <td>52.500</td>\n",
       "    </tr>\n",
       "    <tr>\n",
       "      <th>92</th>\n",
       "      <td>HYDRAULIC OIL</td>\n",
       "      <td>48.410</td>\n",
       "    </tr>\n",
       "    <tr>\n",
       "      <th>116</th>\n",
       "      <td>LOAN INTEREST</td>\n",
       "      <td>35.110</td>\n",
       "    </tr>\n",
       "    <tr>\n",
       "      <th>205</th>\n",
       "      <td>SELF PROP TIRE REPAIR INSTALL</td>\n",
       "      <td>14.000</td>\n",
       "    </tr>\n",
       "    <tr>\n",
       "      <th>107</th>\n",
       "      <td>LAB RANDOM ALCOHOL TEST</td>\n",
       "      <td>9.000</td>\n",
       "    </tr>\n",
       "    <tr>\n",
       "      <th>13</th>\n",
       "      <td>ASSESSMENTS FOR IMPROVEMENTS</td>\n",
       "      <td>0.000</td>\n",
       "    </tr>\n",
       "    <tr>\n",
       "      <th>232</th>\n",
       "      <td>TRUCKS NON CAP</td>\n",
       "      <td>0.000</td>\n",
       "    </tr>\n",
       "    <tr>\n",
       "      <th>67</th>\n",
       "      <td>ENROLL FEES SPONS INST GRANT</td>\n",
       "      <td>0.000</td>\n",
       "    </tr>\n",
       "    <tr>\n",
       "      <th>2</th>\n",
       "      <td>ADVERTISING AND MARKETING</td>\n",
       "      <td>0.000</td>\n",
       "    </tr>\n",
       "    <tr>\n",
       "      <th>71</th>\n",
       "      <td>FCIP-PRINCIPAL-BI-C/I</td>\n",
       "      <td>-14209.000</td>\n",
       "    </tr>\n",
       "    <tr>\n",
       "      <th>98</th>\n",
       "      <td>INTERGOV LCL COMM SVC OP OITS</td>\n",
       "      <td>-3496362.680</td>\n",
       "    </tr>\n",
       "  </tbody>\n",
       "</table>\n",
       "<p>242 rows × 2 columns</p>\n",
       "</div>"
      ],
      "text/plain": [
       "          Detail_Account_Code_Descr         Total\n",
       "237  UNCLASSIFIED REGULAR           305121246.380\n",
       "153  OTHER LOANS                    155585941.820\n",
       "223  STUDENT SCHOLAR FELLOW GRANT    71155246.600\n",
       "26   BUILDINGS                       41133478.280\n",
       "79   GROUP HEALTH HOSPITALIZATION    35055117.340\n",
       "147  OTHER FEES                      26918847.290\n",
       "143  OTHER CONTRACTUAL SERVICES      25602259.510\n",
       "64   EDUCATIONAL INST EE RETIRE SYS  23518974.990\n",
       "34   CLASSIFIED REGULAR              18906657.600\n",
       "78   GRADUATE TEACHING ASSISTANTS    18772266.860\n",
       "134  OASDI                           18479835.850\n",
       "19   BOND INTEREST                   13514706.920\n",
       "65   ELECTRICITY                     12609894.380\n",
       "222  STUDENT RESEARCH ASSISTANTS     12100134.710\n",
       "20   BOND PRINCIPAL                  11795000.000\n",
       "58   DEBT SVC TRANSFER PRINCIPAL     11605000.000\n",
       "221  STUDENT EMPLOYEES HOURLY        10739204.610\n",
       "66   EMPLOYEE AND STUDENT TUITION    10055763.700\n",
       "57   DEBT SVC TRANSFER INTEREST       9736916.160\n",
       "62   DUES AND SUBSCRIPTIONS           7985473.750\n",
       "194  REPAIR & SVC OTHER               7462877.120\n",
       "23   BUILDING IMPROVEMENTS            6738896.190\n",
       "234  UNCLASS HOLIDAY INCL IN BASE     6289556.090\n",
       "18   BLDGS AND GROUNDS MATERIALS      4865591.890\n",
       "120  MEDICARE                         4636221.930\n",
       "156  OTHER PROFESSIONAL FEES          4424959.140\n",
       "188  PUBLIC EE RETIREMENT SYSTEM      4256270.700\n",
       "185  PRO SCIENTIFIC SUPPLY OTHER      4164762.930\n",
       "12   ARCHITECTS AND ENGINEERS         4004007.880\n",
       "238  UNCLASSIFIED TEMPORARY           3878461.940\n",
       "..                              ...           ...\n",
       "104  INTERGOV POSTAGE OP OITS             991.570\n",
       "102  INTERGOV OTHER COMM NOT OITS         941.880\n",
       "187  PROPERTY DAMAGE OR LOSS CLAIMS       823.710\n",
       "215  ST BLDGS OPERATING CHARGE            769.000\n",
       "73   FEED AND FORAGE                      637.160\n",
       "154  OTHER MISC ADVANCES                  630.000\n",
       "220  STEAM                                593.230\n",
       "86   HOSPITALS AND NURSING HOMES          500.000\n",
       "89   HOUSEHOLD FURNITURE                  447.560\n",
       "186  PROPANE BUTANE NATURAL GAS           334.400\n",
       "202  SELF PROP SVC OIL CHANGE             290.410\n",
       "108  LAB RANDOM EE DRUG TEST              167.800\n",
       "69   ER KPERS WAR 3RD PTY/CNSLNT          118.140\n",
       "16   ATTORNEYS AND LAWYERS                117.330\n",
       "43   COMPUTER PROGRAMMING CAP OITS        114.690\n",
       "99   INTERGOV LD COMM SVC CAP OITS         95.960\n",
       "10   ANIMAL DRUGS                          83.470\n",
       "149  OTHER FUEL                            66.920\n",
       "124  MOVING EE PERS EFFECTS IN ST          60.630\n",
       "217  STATE CAR EXPENSE-INTERNATL           52.500\n",
       "92   HYDRAULIC OIL                         48.410\n",
       "116  LOAN INTEREST                         35.110\n",
       "205  SELF PROP TIRE REPAIR INSTALL         14.000\n",
       "107  LAB RANDOM ALCOHOL TEST                9.000\n",
       "13   ASSESSMENTS FOR IMPROVEMENTS           0.000\n",
       "232  TRUCKS NON CAP                         0.000\n",
       "67   ENROLL FEES SPONS INST GRANT           0.000\n",
       "2    ADVERTISING AND MARKETING              0.000\n",
       "71   FCIP-PRINCIPAL-BI-C/I             -14209.000\n",
       "98   INTERGOV LCL COMM SVC OP OITS   -3496362.680\n",
       "\n",
       "[242 rows x 2 columns]"
      ]
     },
     "execution_count": 122,
     "metadata": {},
     "output_type": "execute_result"
    }
   ],
   "source": [
    "KUEX.groupby(\"Detail_Account_Code_Descr\").Total.sum().reset_index().sort_values(\"Total\", ascending=False)"
   ]
  },
  {
   "cell_type": "markdown",
   "metadata": {},
   "source": [
    "Answer: For both Universities, the main two places where the money went was Unclassified Regular and Other Loans. "
   ]
  },
  {
   "cell_type": "markdown",
   "metadata": {},
   "source": [
    "### Q7: What costs two universities the most? "
   ]
  },
  {
   "cell_type": "code",
   "execution_count": 145,
   "metadata": {},
   "outputs": [
    {
     "data": {
      "text/html": [
       "<div>\n",
       "<style scoped>\n",
       "    .dataframe tbody tr th:only-of-type {\n",
       "        vertical-align: middle;\n",
       "    }\n",
       "\n",
       "    .dataframe tbody tr th {\n",
       "        vertical-align: top;\n",
       "    }\n",
       "\n",
       "    .dataframe thead th {\n",
       "        text-align: right;\n",
       "    }\n",
       "</style>\n",
       "<table border=\"1\" class=\"dataframe\">\n",
       "  <thead>\n",
       "    <tr style=\"text-align: right;\">\n",
       "      <th></th>\n",
       "      <th>Detail_Account_Code_Descr</th>\n",
       "      <th>Total</th>\n",
       "    </tr>\n",
       "  </thead>\n",
       "  <tbody>\n",
       "    <tr>\n",
       "      <th>237</th>\n",
       "      <td>UNCLASSIFIED REGULAR</td>\n",
       "      <td>305121246.380</td>\n",
       "    </tr>\n",
       "    <tr>\n",
       "      <th>153</th>\n",
       "      <td>OTHER LOANS</td>\n",
       "      <td>155585941.820</td>\n",
       "    </tr>\n",
       "    <tr>\n",
       "      <th>223</th>\n",
       "      <td>STUDENT SCHOLAR FELLOW GRANT</td>\n",
       "      <td>71155246.600</td>\n",
       "    </tr>\n",
       "    <tr>\n",
       "      <th>26</th>\n",
       "      <td>BUILDINGS</td>\n",
       "      <td>41133478.280</td>\n",
       "    </tr>\n",
       "    <tr>\n",
       "      <th>79</th>\n",
       "      <td>GROUP HEALTH HOSPITALIZATION</td>\n",
       "      <td>35055117.340</td>\n",
       "    </tr>\n",
       "    <tr>\n",
       "      <th>147</th>\n",
       "      <td>OTHER FEES</td>\n",
       "      <td>26918847.290</td>\n",
       "    </tr>\n",
       "    <tr>\n",
       "      <th>143</th>\n",
       "      <td>OTHER CONTRACTUAL SERVICES</td>\n",
       "      <td>25602259.510</td>\n",
       "    </tr>\n",
       "    <tr>\n",
       "      <th>64</th>\n",
       "      <td>EDUCATIONAL INST EE RETIRE SYS</td>\n",
       "      <td>23518974.990</td>\n",
       "    </tr>\n",
       "    <tr>\n",
       "      <th>34</th>\n",
       "      <td>CLASSIFIED REGULAR</td>\n",
       "      <td>18906657.600</td>\n",
       "    </tr>\n",
       "    <tr>\n",
       "      <th>78</th>\n",
       "      <td>GRADUATE TEACHING ASSISTANTS</td>\n",
       "      <td>18772266.860</td>\n",
       "    </tr>\n",
       "    <tr>\n",
       "      <th>134</th>\n",
       "      <td>OASDI</td>\n",
       "      <td>18479835.850</td>\n",
       "    </tr>\n",
       "    <tr>\n",
       "      <th>19</th>\n",
       "      <td>BOND INTEREST</td>\n",
       "      <td>13514706.920</td>\n",
       "    </tr>\n",
       "    <tr>\n",
       "      <th>65</th>\n",
       "      <td>ELECTRICITY</td>\n",
       "      <td>12609894.380</td>\n",
       "    </tr>\n",
       "    <tr>\n",
       "      <th>222</th>\n",
       "      <td>STUDENT RESEARCH ASSISTANTS</td>\n",
       "      <td>12100134.710</td>\n",
       "    </tr>\n",
       "    <tr>\n",
       "      <th>20</th>\n",
       "      <td>BOND PRINCIPAL</td>\n",
       "      <td>11795000.000</td>\n",
       "    </tr>\n",
       "    <tr>\n",
       "      <th>58</th>\n",
       "      <td>DEBT SVC TRANSFER PRINCIPAL</td>\n",
       "      <td>11605000.000</td>\n",
       "    </tr>\n",
       "    <tr>\n",
       "      <th>221</th>\n",
       "      <td>STUDENT EMPLOYEES HOURLY</td>\n",
       "      <td>10739204.610</td>\n",
       "    </tr>\n",
       "    <tr>\n",
       "      <th>66</th>\n",
       "      <td>EMPLOYEE AND STUDENT TUITION</td>\n",
       "      <td>10055763.700</td>\n",
       "    </tr>\n",
       "    <tr>\n",
       "      <th>57</th>\n",
       "      <td>DEBT SVC TRANSFER INTEREST</td>\n",
       "      <td>9736916.160</td>\n",
       "    </tr>\n",
       "    <tr>\n",
       "      <th>62</th>\n",
       "      <td>DUES AND SUBSCRIPTIONS</td>\n",
       "      <td>7985473.750</td>\n",
       "    </tr>\n",
       "    <tr>\n",
       "      <th>194</th>\n",
       "      <td>REPAIR &amp; SVC OTHER</td>\n",
       "      <td>7462877.120</td>\n",
       "    </tr>\n",
       "    <tr>\n",
       "      <th>23</th>\n",
       "      <td>BUILDING IMPROVEMENTS</td>\n",
       "      <td>6738896.190</td>\n",
       "    </tr>\n",
       "    <tr>\n",
       "      <th>234</th>\n",
       "      <td>UNCLASS HOLIDAY INCL IN BASE</td>\n",
       "      <td>6289556.090</td>\n",
       "    </tr>\n",
       "    <tr>\n",
       "      <th>18</th>\n",
       "      <td>BLDGS AND GROUNDS MATERIALS</td>\n",
       "      <td>4865591.890</td>\n",
       "    </tr>\n",
       "    <tr>\n",
       "      <th>120</th>\n",
       "      <td>MEDICARE</td>\n",
       "      <td>4636221.930</td>\n",
       "    </tr>\n",
       "    <tr>\n",
       "      <th>156</th>\n",
       "      <td>OTHER PROFESSIONAL FEES</td>\n",
       "      <td>4424959.140</td>\n",
       "    </tr>\n",
       "    <tr>\n",
       "      <th>188</th>\n",
       "      <td>PUBLIC EE RETIREMENT SYSTEM</td>\n",
       "      <td>4256270.700</td>\n",
       "    </tr>\n",
       "    <tr>\n",
       "      <th>185</th>\n",
       "      <td>PRO SCIENTIFIC SUPPLY OTHER</td>\n",
       "      <td>4164762.930</td>\n",
       "    </tr>\n",
       "    <tr>\n",
       "      <th>12</th>\n",
       "      <td>ARCHITECTS AND ENGINEERS</td>\n",
       "      <td>4004007.880</td>\n",
       "    </tr>\n",
       "    <tr>\n",
       "      <th>238</th>\n",
       "      <td>UNCLASSIFIED TEMPORARY</td>\n",
       "      <td>3878461.940</td>\n",
       "    </tr>\n",
       "    <tr>\n",
       "      <th>...</th>\n",
       "      <td>...</td>\n",
       "      <td>...</td>\n",
       "    </tr>\n",
       "    <tr>\n",
       "      <th>104</th>\n",
       "      <td>INTERGOV POSTAGE OP OITS</td>\n",
       "      <td>991.570</td>\n",
       "    </tr>\n",
       "    <tr>\n",
       "      <th>102</th>\n",
       "      <td>INTERGOV OTHER COMM NOT OITS</td>\n",
       "      <td>941.880</td>\n",
       "    </tr>\n",
       "    <tr>\n",
       "      <th>187</th>\n",
       "      <td>PROPERTY DAMAGE OR LOSS CLAIMS</td>\n",
       "      <td>823.710</td>\n",
       "    </tr>\n",
       "    <tr>\n",
       "      <th>215</th>\n",
       "      <td>ST BLDGS OPERATING CHARGE</td>\n",
       "      <td>769.000</td>\n",
       "    </tr>\n",
       "    <tr>\n",
       "      <th>73</th>\n",
       "      <td>FEED AND FORAGE</td>\n",
       "      <td>637.160</td>\n",
       "    </tr>\n",
       "    <tr>\n",
       "      <th>154</th>\n",
       "      <td>OTHER MISC ADVANCES</td>\n",
       "      <td>630.000</td>\n",
       "    </tr>\n",
       "    <tr>\n",
       "      <th>220</th>\n",
       "      <td>STEAM</td>\n",
       "      <td>593.230</td>\n",
       "    </tr>\n",
       "    <tr>\n",
       "      <th>86</th>\n",
       "      <td>HOSPITALS AND NURSING HOMES</td>\n",
       "      <td>500.000</td>\n",
       "    </tr>\n",
       "    <tr>\n",
       "      <th>89</th>\n",
       "      <td>HOUSEHOLD FURNITURE</td>\n",
       "      <td>447.560</td>\n",
       "    </tr>\n",
       "    <tr>\n",
       "      <th>186</th>\n",
       "      <td>PROPANE BUTANE NATURAL GAS</td>\n",
       "      <td>334.400</td>\n",
       "    </tr>\n",
       "    <tr>\n",
       "      <th>202</th>\n",
       "      <td>SELF PROP SVC OIL CHANGE</td>\n",
       "      <td>290.410</td>\n",
       "    </tr>\n",
       "    <tr>\n",
       "      <th>108</th>\n",
       "      <td>LAB RANDOM EE DRUG TEST</td>\n",
       "      <td>167.800</td>\n",
       "    </tr>\n",
       "    <tr>\n",
       "      <th>69</th>\n",
       "      <td>ER KPERS WAR 3RD PTY/CNSLNT</td>\n",
       "      <td>118.140</td>\n",
       "    </tr>\n",
       "    <tr>\n",
       "      <th>16</th>\n",
       "      <td>ATTORNEYS AND LAWYERS</td>\n",
       "      <td>117.330</td>\n",
       "    </tr>\n",
       "    <tr>\n",
       "      <th>43</th>\n",
       "      <td>COMPUTER PROGRAMMING CAP OITS</td>\n",
       "      <td>114.690</td>\n",
       "    </tr>\n",
       "    <tr>\n",
       "      <th>99</th>\n",
       "      <td>INTERGOV LD COMM SVC CAP OITS</td>\n",
       "      <td>95.960</td>\n",
       "    </tr>\n",
       "    <tr>\n",
       "      <th>10</th>\n",
       "      <td>ANIMAL DRUGS</td>\n",
       "      <td>83.470</td>\n",
       "    </tr>\n",
       "    <tr>\n",
       "      <th>149</th>\n",
       "      <td>OTHER FUEL</td>\n",
       "      <td>66.920</td>\n",
       "    </tr>\n",
       "    <tr>\n",
       "      <th>124</th>\n",
       "      <td>MOVING EE PERS EFFECTS IN ST</td>\n",
       "      <td>60.630</td>\n",
       "    </tr>\n",
       "    <tr>\n",
       "      <th>217</th>\n",
       "      <td>STATE CAR EXPENSE-INTERNATL</td>\n",
       "      <td>52.500</td>\n",
       "    </tr>\n",
       "    <tr>\n",
       "      <th>92</th>\n",
       "      <td>HYDRAULIC OIL</td>\n",
       "      <td>48.410</td>\n",
       "    </tr>\n",
       "    <tr>\n",
       "      <th>116</th>\n",
       "      <td>LOAN INTEREST</td>\n",
       "      <td>35.110</td>\n",
       "    </tr>\n",
       "    <tr>\n",
       "      <th>205</th>\n",
       "      <td>SELF PROP TIRE REPAIR INSTALL</td>\n",
       "      <td>14.000</td>\n",
       "    </tr>\n",
       "    <tr>\n",
       "      <th>107</th>\n",
       "      <td>LAB RANDOM ALCOHOL TEST</td>\n",
       "      <td>9.000</td>\n",
       "    </tr>\n",
       "    <tr>\n",
       "      <th>13</th>\n",
       "      <td>ASSESSMENTS FOR IMPROVEMENTS</td>\n",
       "      <td>0.000</td>\n",
       "    </tr>\n",
       "    <tr>\n",
       "      <th>232</th>\n",
       "      <td>TRUCKS NON CAP</td>\n",
       "      <td>0.000</td>\n",
       "    </tr>\n",
       "    <tr>\n",
       "      <th>67</th>\n",
       "      <td>ENROLL FEES SPONS INST GRANT</td>\n",
       "      <td>0.000</td>\n",
       "    </tr>\n",
       "    <tr>\n",
       "      <th>2</th>\n",
       "      <td>ADVERTISING AND MARKETING</td>\n",
       "      <td>0.000</td>\n",
       "    </tr>\n",
       "    <tr>\n",
       "      <th>71</th>\n",
       "      <td>FCIP-PRINCIPAL-BI-C/I</td>\n",
       "      <td>-14209.000</td>\n",
       "    </tr>\n",
       "    <tr>\n",
       "      <th>98</th>\n",
       "      <td>INTERGOV LCL COMM SVC OP OITS</td>\n",
       "      <td>-3496362.680</td>\n",
       "    </tr>\n",
       "  </tbody>\n",
       "</table>\n",
       "<p>242 rows × 2 columns</p>\n",
       "</div>"
      ],
      "text/plain": [
       "          Detail_Account_Code_Descr         Total\n",
       "237  UNCLASSIFIED REGULAR           305121246.380\n",
       "153  OTHER LOANS                    155585941.820\n",
       "223  STUDENT SCHOLAR FELLOW GRANT    71155246.600\n",
       "26   BUILDINGS                       41133478.280\n",
       "79   GROUP HEALTH HOSPITALIZATION    35055117.340\n",
       "147  OTHER FEES                      26918847.290\n",
       "143  OTHER CONTRACTUAL SERVICES      25602259.510\n",
       "64   EDUCATIONAL INST EE RETIRE SYS  23518974.990\n",
       "34   CLASSIFIED REGULAR              18906657.600\n",
       "78   GRADUATE TEACHING ASSISTANTS    18772266.860\n",
       "134  OASDI                           18479835.850\n",
       "19   BOND INTEREST                   13514706.920\n",
       "65   ELECTRICITY                     12609894.380\n",
       "222  STUDENT RESEARCH ASSISTANTS     12100134.710\n",
       "20   BOND PRINCIPAL                  11795000.000\n",
       "58   DEBT SVC TRANSFER PRINCIPAL     11605000.000\n",
       "221  STUDENT EMPLOYEES HOURLY        10739204.610\n",
       "66   EMPLOYEE AND STUDENT TUITION    10055763.700\n",
       "57   DEBT SVC TRANSFER INTEREST       9736916.160\n",
       "62   DUES AND SUBSCRIPTIONS           7985473.750\n",
       "194  REPAIR & SVC OTHER               7462877.120\n",
       "23   BUILDING IMPROVEMENTS            6738896.190\n",
       "234  UNCLASS HOLIDAY INCL IN BASE     6289556.090\n",
       "18   BLDGS AND GROUNDS MATERIALS      4865591.890\n",
       "120  MEDICARE                         4636221.930\n",
       "156  OTHER PROFESSIONAL FEES          4424959.140\n",
       "188  PUBLIC EE RETIREMENT SYSTEM      4256270.700\n",
       "185  PRO SCIENTIFIC SUPPLY OTHER      4164762.930\n",
       "12   ARCHITECTS AND ENGINEERS         4004007.880\n",
       "238  UNCLASSIFIED TEMPORARY           3878461.940\n",
       "..                              ...           ...\n",
       "104  INTERGOV POSTAGE OP OITS             991.570\n",
       "102  INTERGOV OTHER COMM NOT OITS         941.880\n",
       "187  PROPERTY DAMAGE OR LOSS CLAIMS       823.710\n",
       "215  ST BLDGS OPERATING CHARGE            769.000\n",
       "73   FEED AND FORAGE                      637.160\n",
       "154  OTHER MISC ADVANCES                  630.000\n",
       "220  STEAM                                593.230\n",
       "86   HOSPITALS AND NURSING HOMES          500.000\n",
       "89   HOUSEHOLD FURNITURE                  447.560\n",
       "186  PROPANE BUTANE NATURAL GAS           334.400\n",
       "202  SELF PROP SVC OIL CHANGE             290.410\n",
       "108  LAB RANDOM EE DRUG TEST              167.800\n",
       "69   ER KPERS WAR 3RD PTY/CNSLNT          118.140\n",
       "16   ATTORNEYS AND LAWYERS                117.330\n",
       "43   COMPUTER PROGRAMMING CAP OITS        114.690\n",
       "99   INTERGOV LD COMM SVC CAP OITS         95.960\n",
       "10   ANIMAL DRUGS                          83.470\n",
       "149  OTHER FUEL                            66.920\n",
       "124  MOVING EE PERS EFFECTS IN ST          60.630\n",
       "217  STATE CAR EXPENSE-INTERNATL           52.500\n",
       "92   HYDRAULIC OIL                         48.410\n",
       "116  LOAN INTEREST                         35.110\n",
       "205  SELF PROP TIRE REPAIR INSTALL         14.000\n",
       "107  LAB RANDOM ALCOHOL TEST                9.000\n",
       "13   ASSESSMENTS FOR IMPROVEMENTS           0.000\n",
       "232  TRUCKS NON CAP                         0.000\n",
       "67   ENROLL FEES SPONS INST GRANT           0.000\n",
       "2    ADVERTISING AND MARKETING              0.000\n",
       "71   FCIP-PRINCIPAL-BI-C/I             -14209.000\n",
       "98   INTERGOV LCL COMM SVC OP OITS   -3496362.680\n",
       "\n",
       "[242 rows x 2 columns]"
      ]
     },
     "execution_count": 145,
     "metadata": {},
     "output_type": "execute_result"
    }
   ],
   "source": [
    "KUEX.groupby(\"Detail_Account_Code_Descr\").Total.sum().reset_index().sort_values(\"Total\", ascending=False)"
   ]
  },
  {
   "cell_type": "markdown",
   "metadata": {},
   "source": [
    "Answer: Both Universities' \"unclassified reglar\" and \"other loans\" cost them the most. "
   ]
  },
  {
   "cell_type": "markdown",
   "metadata": {},
   "source": [
    "### Q8: Calculate the percentage of this cost over each university's total expense."
   ]
  },
  {
   "cell_type": "code",
   "execution_count": 148,
   "metadata": {},
   "outputs": [
    {
     "data": {
      "text/plain": [
       "0.299575335831319"
      ]
     },
     "execution_count": 148,
     "metadata": {},
     "output_type": "execute_result"
    }
   ],
   "source": [
    "305142755.620/1018584373.02"
   ]
  },
  {
   "cell_type": "code",
   "execution_count": 150,
   "metadata": {},
   "outputs": [
    {
     "data": {
      "text/plain": [
       "0.3081289312056562"
      ]
     },
     "execution_count": 150,
     "metadata": {},
     "output_type": "execute_result"
    }
   ],
   "source": [
    "305121246.380/990238875.6099999"
   ]
  },
  {
   "cell_type": "code",
   "execution_count": 149,
   "metadata": {},
   "outputs": [
    {
     "data": {
      "text/plain": [
       "29.9575335831319"
      ]
     },
     "execution_count": 149,
     "metadata": {},
     "output_type": "execute_result"
    }
   ],
   "source": [
    "0.299575335831319 *100"
   ]
  },
  {
   "cell_type": "markdown",
   "metadata": {},
   "source": [
    "K-State: 29.9%\n",
    "KU: 30.8%"
   ]
  },
  {
   "cell_type": "markdown",
   "metadata": {},
   "source": [
    "### Q9: Breakdown the cost you found in Q7 for both universities.\n",
    "Again, if you run into a situation where a filter function returns 0 results, you may want to check if there are leading and trailing spaces in the column. To clean the leading and trailing spaces, you will need to remove the hashtag, revise the names, and run the following code:"
   ]
  },
  {
   "cell_type": "code",
   "execution_count": 3,
   "metadata": {},
   "outputs": [],
   "source": [
    "#yourdataframe[\"yourcolumnname\"] = yourdataframe[\"yourcolumnname\"].str.strip()"
   ]
  },
  {
   "cell_type": "code",
   "execution_count": null,
   "metadata": {},
   "outputs": [],
   "source": []
  },
  {
   "cell_type": "markdown",
   "metadata": {},
   "source": [
    "<b>Answer:</b>"
   ]
  },
  {
   "cell_type": "markdown",
   "metadata": {},
   "source": [
    "### Q10: Compare the breakdown costs from Q9 side by side.\n",
    "When you merge the two subsets, make sure to add the attribute <b>how =\"outer\"</b> so that you can keep every item from both sets.\n",
    "*For example: merge = pd.merge(df1, df2, how=\"outer\", on=\"columnname\")"
   ]
  },
  {
   "cell_type": "code",
   "execution_count": null,
   "metadata": {},
   "outputs": [],
   "source": []
  },
  {
   "cell_type": "markdown",
   "metadata": {},
   "source": [
    "<b>Answer:</b>"
   ]
  },
  {
   "cell_type": "markdown",
   "metadata": {},
   "source": [
    "## III. BONUS QUESTIONS\n",
    "* Each question's worth 15 points.\n"
   ]
  },
  {
   "cell_type": "markdown",
   "metadata": {},
   "source": [
    "### B1: Which university made a profit in the fiscal year of 2018?"
   ]
  },
  {
   "cell_type": "code",
   "execution_count": 68,
   "metadata": {},
   "outputs": [
    {
     "data": {
      "text/plain": [
       "854324643.84"
      ]
     },
     "execution_count": 68,
     "metadata": {},
     "output_type": "execute_result"
    }
   ],
   "source": [
    "KSUREV.Total.sum()"
   ]
  },
  {
   "cell_type": "code",
   "execution_count": 69,
   "metadata": {},
   "outputs": [
    {
     "data": {
      "text/plain": [
       "1018584373.02"
      ]
     },
     "execution_count": 69,
     "metadata": {},
     "output_type": "execute_result"
    }
   ],
   "source": [
    "KSUEX.Total.sum()"
   ]
  },
  {
   "cell_type": "code",
   "execution_count": 70,
   "metadata": {},
   "outputs": [
    {
     "data": {
      "text/plain": [
       "808767902.55"
      ]
     },
     "execution_count": 70,
     "metadata": {},
     "output_type": "execute_result"
    }
   ],
   "source": [
    "KUREV.Total.sum()"
   ]
  },
  {
   "cell_type": "code",
   "execution_count": 71,
   "metadata": {},
   "outputs": [
    {
     "data": {
      "text/plain": [
       "990238875.6099999"
      ]
     },
     "execution_count": 71,
     "metadata": {},
     "output_type": "execute_result"
    }
   ],
   "source": [
    "KUEX.Total.sum()"
   ]
  },
  {
   "cell_type": "code",
   "execution_count": 72,
   "metadata": {},
   "outputs": [
    {
     "data": {
      "text/plain": [
       "-164259729.17999995"
      ]
     },
     "execution_count": 72,
     "metadata": {},
     "output_type": "execute_result"
    }
   ],
   "source": [
    "854324643.84 - 1018584373.02"
   ]
  },
  {
   "cell_type": "code",
   "execution_count": 73,
   "metadata": {},
   "outputs": [
    {
     "data": {
      "text/plain": [
       "-181470973.05999994"
      ]
     },
     "execution_count": 73,
     "metadata": {},
     "output_type": "execute_result"
    }
   ],
   "source": [
    "808767902.55 - 990238875.6099999"
   ]
  },
  {
   "cell_type": "markdown",
   "metadata": {},
   "source": [
    "Answer: Neither University made a profit in 2018."
   ]
  },
  {
   "cell_type": "markdown",
   "metadata": {},
   "source": [
    "### B2: Which software program do you like the most in this course? Why?"
   ]
  },
  {
   "cell_type": "markdown",
   "metadata": {},
   "source": [
    "Answer: I like tableau the best, because of the cool graphics that we were able to make through it. The graphs are more interesting to look at and interact with then just normal graphs. It was also easier for me to use then some of the other software programs we used in class, making it more enjoyable in that sense."
   ]
  },
  {
   "cell_type": "markdown",
   "metadata": {},
   "source": [
    "### END OF THE TEST"
   ]
  }
 ],
 "metadata": {
  "kernelspec": {
   "display_name": "Python 2",
   "language": "python",
   "name": "python2"
  },
  "language_info": {
   "codemirror_mode": {
    "name": "ipython",
    "version": 2
   },
   "file_extension": ".py",
   "mimetype": "text/x-python",
   "name": "python",
   "nbconvert_exporter": "python",
   "pygments_lexer": "ipython2",
   "version": "2.7.10"
  }
 },
 "nbformat": 4,
 "nbformat_minor": 2
}
